{
 "cells": [
  {
   "cell_type": "code",
   "execution_count": null,
   "metadata": {},
   "outputs": [],
   "source": [
    "import os\n",
    "current_directory = os.getcwd()\n",
    "# The directory you want to clear\n",
    "directory = os.path.join(current_directory, '02. Datasets') # chnage this to the directory you want to clear\n",
    "\n",
    "# List of filenames you want to keep\n",
    "files_to_keep = [\"ABChousehold.dta\", \"ABCteacher.dta\", \"ABCtestscore.dta\"]\n",
    "\n",
    "# Iterate over all files in the directory\n",
    "for filename in os.listdir(directory):\n",
    "    file_path = os.path.join(directory, filename)\n",
    "    # Check if the current file is not in the list of files to keep\n",
    "    if filename not in files_to_keep and os.path.isfile(file_path):\n",
    "        os.remove(file_path)  # Delete the file\n",
    "        print(f\"Deleted {filename}\")\n",
    "    else:\n",
    "        print(f\"Kept {filename}\")\n",
    "\n",
    "print(\"Finished clearing the directory.\")\n"
   ]
  },
  {
   "cell_type": "code",
   "execution_count": null,
   "metadata": {},
   "outputs": [],
   "source": []
  }
 ],
 "metadata": {
  "language_info": {
   "name": "python"
  }
 },
 "nbformat": 4,
 "nbformat_minor": 2
}
