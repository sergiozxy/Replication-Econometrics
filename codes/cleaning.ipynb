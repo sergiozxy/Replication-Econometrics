{
 "cells": [
  {
   "cell_type": "code",
   "execution_count": 1,
   "metadata": {},
   "outputs": [],
   "source": [
    "import pandas as pd"
   ]
  },
  {
   "cell_type": "code",
   "execution_count": 58,
   "metadata": {},
   "outputs": [],
   "source": [
    "data = pd.read_stata('../02. Datasets/ttest_with_result_mean_std.dta')\n",
    "data.columns = data.iloc[0]\n",
    "# Drop the first row\n",
    "data = data.drop(0).reset_index(drop=True)"
   ]
  },
  {
   "cell_type": "code",
   "execution_count": 59,
   "metadata": {},
   "outputs": [],
   "source": [
    "for i in range(1, 12):\n",
    "    data.loc[i, 'SD'] = data.loc[i, 'Mean']\n",
    "    data.loc[i, 'Mean'] = data.loc[i, 'Variable']\n",
    "    data.loc[i, 'Variable'] = data.loc[i, 'abc']\n",
    "    data.loc[i, 'abc'] = 0\n",
    "\n",
    "    data.loc[12 + i, 'SD'] = data.loc[12 + i, 'Mean']\n",
    "    data.loc[12 + i, 'Mean'] = data.loc[12 + i, 'Variable']\n",
    "    data.loc[12 + i, 'Variable'] = data.loc[12 + i, 'abc']\n",
    "    data.loc[12 + i, 'abc'] = 1"
   ]
  },
  {
   "cell_type": "markdown",
   "metadata": {},
   "source": [
    "now we merge the table with the given label"
   ]
  },
  {
   "cell_type": "code",
   "execution_count": 60,
   "metadata": {},
   "outputs": [],
   "source": [
    "df = pd.read_excel('../02. Datasets/variable__label_correspondence.xlsx')\n",
    "df['varlab'] = df['varlab'].str.replace(r'^s\\d+q\\d+_\\d+\\s+', '', regex=True)\n",
    "df['varlab'] = df['varlab'].str.replace(r's22q1_15a ', '') # s22q1_15a \n",
    "df['varlab'] = df['varlab'].str.replace(r'id11 ', '')"
   ]
  },
  {
   "cell_type": "code",
   "execution_count": 61,
   "metadata": {},
   "outputs": [],
   "source": [
    "data['Variable'].replace('edchild pe~t', 'edchild_percent', inplace  = True)\n",
    "data['Variable'].replace('accesscell~e', 'accesscellphone', inplace  = True)\n",
    "data['Variable'].replace('eth hausa\t', 'edchild_percent', inplace  = True)\n",
    "data['Variable'].replace('accesscell~e', 'accesscellphone', inplace  = True)\n"
   ]
  },
  {
   "cell_type": "code",
   "execution_count": 62,
   "metadata": {},
   "outputs": [],
   "source": [
    "data['Variable'] = data['Variable'] \\\n",
    "    .str.replace(' ', '_') \\\n",
    "    .str.replace('edchild_pe~t', 'edchild_percent') \\\n",
    "    .str.replace('eth_hausa', 'eth_hausa') \\\n",
    "    .str.replace('hhmem_no', 'hhmem_no') \\\n",
    "    .str.replace('accesscell~e', 'accesscellphone')\n"
   ]
  },
  {
   "cell_type": "code",
   "execution_count": 63,
   "metadata": {},
   "outputs": [],
   "source": [
    "data = data.merge(df, left_on='Variable', right_on='name', how='left')"
   ]
  },
  {
   "cell_type": "code",
   "execution_count": 64,
   "metadata": {},
   "outputs": [],
   "source": [
    "dataframe = data[['Variable', 'varlab', 'Mean', 'SD', 'abc']]"
   ]
  },
  {
   "cell_type": "code",
   "execution_count": 65,
   "metadata": {},
   "outputs": [],
   "source": [
    "df_abc_0 = dataframe.iloc[:12].reset_index(drop=True)\n",
    "df_abc_1 = dataframe[12:][['varlab', 'Mean', 'SD']].reset_index(drop=True)\n",
    "\n",
    "df_abc_1.rename(columns={'Mean': 'Mean with abc', 'SD': 'SD with abc'}, inplace=True)\n",
    "\n",
    "result_df = pd.merge(df_abc_0, df_abc_1, on='varlab', how='left')\n",
    "result_df.rename(columns={'Mean': 'Mean without abc', 'SD': 'SD without abc'}, inplace=True)"
   ]
  },
  {
   "cell_type": "code",
   "execution_count": 66,
   "metadata": {},
   "outputs": [],
   "source": [
    "result_df.drop(columns = ['abc'], inplace = True)"
   ]
  },
  {
   "cell_type": "code",
   "execution_count": 67,
   "metadata": {},
   "outputs": [
    {
     "data": {
      "text/html": [
       "<div>\n",
       "<style scoped>\n",
       "    .dataframe tbody tr th:only-of-type {\n",
       "        vertical-align: middle;\n",
       "    }\n",
       "\n",
       "    .dataframe tbody tr th {\n",
       "        vertical-align: top;\n",
       "    }\n",
       "\n",
       "    .dataframe thead th {\n",
       "        text-align: right;\n",
       "    }\n",
       "</style>\n",
       "<table border=\"1\" class=\"dataframe\">\n",
       "  <thead>\n",
       "    <tr style=\"text-align: right;\">\n",
       "      <th></th>\n",
       "      <th>Variable</th>\n",
       "      <th>varlab</th>\n",
       "      <th>Mean without abc</th>\n",
       "      <th>SD without abc</th>\n",
       "      <th>Mean with abc</th>\n",
       "      <th>SD with abc</th>\n",
       "    </tr>\n",
       "  </thead>\n",
       "  <tbody>\n",
       "    <tr>\n",
       "      <th>0</th>\n",
       "      <td>age</td>\n",
       "      <td>age</td>\n",
       "      <td>37.86</td>\n",
       "      <td>13.10</td>\n",
       "      <td>37.18</td>\n",
       "      <td>11.76</td>\n",
       "    </tr>\n",
       "    <tr>\n",
       "      <th>1</th>\n",
       "      <td>hhhead</td>\n",
       "      <td>Are you the household head?</td>\n",
       "      <td>0.560</td>\n",
       "      <td>0.497</td>\n",
       "      <td>0.547</td>\n",
       "      <td>0.498</td>\n",
       "    </tr>\n",
       "    <tr>\n",
       "      <th>2</th>\n",
       "      <td>eth_hausa</td>\n",
       "      <td>Respondent is Hausa</td>\n",
       "      <td>0.715</td>\n",
       "      <td>0.452</td>\n",
       "      <td>0.721</td>\n",
       "      <td>0.449</td>\n",
       "    </tr>\n",
       "    <tr>\n",
       "      <th>3</th>\n",
       "      <td>hhmem_no</td>\n",
       "      <td>Number of household members</td>\n",
       "      <td>8.422</td>\n",
       "      <td>4.054</td>\n",
       "      <td>8.328</td>\n",
       "      <td>4.074</td>\n",
       "    </tr>\n",
       "    <tr>\n",
       "      <th>4</th>\n",
       "      <td>edchild_percent</td>\n",
       "      <td>Percentage of children under 15 who have some ...</td>\n",
       "      <td>0.279</td>\n",
       "      <td>0.276</td>\n",
       "      <td>0.269</td>\n",
       "      <td>0.270</td>\n",
       "    </tr>\n",
       "    <tr>\n",
       "      <th>5</th>\n",
       "      <td>assets</td>\n",
       "      <td>Number of asset categories owned by household</td>\n",
       "      <td>4.990</td>\n",
       "      <td>1.609</td>\n",
       "      <td>4.979</td>\n",
       "      <td>1.575</td>\n",
       "    </tr>\n",
       "    <tr>\n",
       "      <th>6</th>\n",
       "      <td>drought</td>\n",
       "      <td>Household experienced drought in past year</td>\n",
       "      <td>0.385</td>\n",
       "      <td>0.487</td>\n",
       "      <td>0.380</td>\n",
       "      <td>0.486</td>\n",
       "    </tr>\n",
       "    <tr>\n",
       "      <th>7</th>\n",
       "      <td>cellphone</td>\n",
       "      <td>Household owns a cell phone (excluding group p...</td>\n",
       "      <td>0.296</td>\n",
       "      <td>0.457</td>\n",
       "      <td>0.295</td>\n",
       "      <td>0.457</td>\n",
       "    </tr>\n",
       "    <tr>\n",
       "      <th>8</th>\n",
       "      <td>accesscellphone</td>\n",
       "      <td>Access to household or village-level cell phone</td>\n",
       "      <td>0.763</td>\n",
       "      <td>0.426</td>\n",
       "      <td>0.798</td>\n",
       "      <td>0.402</td>\n",
       "    </tr>\n",
       "    <tr>\n",
       "      <th>9</th>\n",
       "      <td>usecellphone</td>\n",
       "      <td>Respondent has used cell phone since last harvest</td>\n",
       "      <td>0.542</td>\n",
       "      <td>0.499</td>\n",
       "      <td>0.573</td>\n",
       "      <td>0.495</td>\n",
       "    </tr>\n",
       "    <tr>\n",
       "      <th>10</th>\n",
       "      <td>makecall</td>\n",
       "      <td>Respondent has made call</td>\n",
       "      <td>0.691</td>\n",
       "      <td>0.463</td>\n",
       "      <td>0.725</td>\n",
       "      <td>0.447</td>\n",
       "    </tr>\n",
       "    <tr>\n",
       "      <th>11</th>\n",
       "      <td>receivecall</td>\n",
       "      <td>Respondent has received call</td>\n",
       "      <td>0.858</td>\n",
       "      <td>0.349</td>\n",
       "      <td>0.868</td>\n",
       "      <td>0.339</td>\n",
       "    </tr>\n",
       "  </tbody>\n",
       "</table>\n",
       "</div>"
      ],
      "text/plain": [
       "           Variable                                             varlab  \\\n",
       "0               age                                                age   \n",
       "1            hhhead                        Are you the household head?   \n",
       "2         eth_hausa                                Respondent is Hausa   \n",
       "3          hhmem_no                        Number of household members   \n",
       "4   edchild_percent  Percentage of children under 15 who have some ...   \n",
       "5            assets      Number of asset categories owned by household   \n",
       "6           drought         Household experienced drought in past year   \n",
       "7         cellphone  Household owns a cell phone (excluding group p...   \n",
       "8   accesscellphone    Access to household or village-level cell phone   \n",
       "9      usecellphone  Respondent has used cell phone since last harvest   \n",
       "10         makecall                           Respondent has made call   \n",
       "11      receivecall                       Respondent has received call   \n",
       "\n",
       "   Mean without abc SD without abc Mean with abc SD with abc  \n",
       "0             37.86          13.10         37.18       11.76  \n",
       "1             0.560          0.497         0.547       0.498  \n",
       "2             0.715          0.452         0.721       0.449  \n",
       "3             8.422          4.054         8.328       4.074  \n",
       "4             0.279          0.276         0.269       0.270  \n",
       "5             4.990          1.609         4.979       1.575  \n",
       "6             0.385          0.487         0.380       0.486  \n",
       "7             0.296          0.457         0.295       0.457  \n",
       "8             0.763          0.426         0.798       0.402  \n",
       "9             0.542          0.499         0.573       0.495  \n",
       "10            0.691          0.463         0.725       0.447  \n",
       "11            0.858          0.349         0.868       0.339  "
      ]
     },
     "execution_count": 67,
     "metadata": {},
     "output_type": "execute_result"
    }
   ],
   "source": [
    "result_df"
   ]
  },
  {
   "cell_type": "code",
   "execution_count": 68,
   "metadata": {},
   "outputs": [],
   "source": [
    "difference = pd.read_stata('../02. Datasets/Table1_PanelA_dta.dta')\n",
    "difference.columns = difference.iloc[1]\n",
    "# Drop the first row\n",
    "difference = difference.drop(0).reset_index(drop=True)\n",
    "difference = difference.drop(0).reset_index(drop=True)\n",
    "\n",
    "result_data = pd.DataFrame(difference.iloc[1])\n",
    "result_data['std'] = difference.iloc[2]\n",
    "result_data.columns = result_data.iloc[0]\n",
    "\n",
    "result_data.drop('VARIABLES', inplace=True)\n",
    "\n",
    "result_data.reset_index(drop = False, inplace = True)\n",
    "result_data.reset_index(drop = True, inplace = True)"
   ]
  },
  {
   "cell_type": "code",
   "execution_count": 69,
   "metadata": {},
   "outputs": [],
   "source": [
    "result_data.rename(columns = {1: 'Name', 'abc': 'Diff', '': 'std'}, inplace = True)"
   ]
  },
  {
   "cell_type": "code",
   "execution_count": 70,
   "metadata": {},
   "outputs": [],
   "source": [
    "result_data.reset_index(drop = True, inplace = True)"
   ]
  },
  {
   "cell_type": "code",
   "execution_count": 71,
   "metadata": {},
   "outputs": [],
   "source": [
    "result_df = pd.merge(result_df, result_data, left_on= 'Variable', right_on='Name', how='left')"
   ]
  },
  {
   "cell_type": "code",
   "execution_count": 72,
   "metadata": {},
   "outputs": [],
   "source": [
    "result_df.drop(columns = ['Variable', 'Name'], inplace = True)\n",
    "result_df.rename(columns = {'varlab': 'Variable'}, inplace = True)"
   ]
  },
  {
   "cell_type": "code",
   "execution_count": 73,
   "metadata": {},
   "outputs": [],
   "source": [
    "latex_table  = result_df.to_latex(index=False, escape=False)"
   ]
  },
  {
   "cell_type": "code",
   "execution_count": 74,
   "metadata": {},
   "outputs": [
    {
     "name": "stdout",
     "output_type": "stream",
     "text": [
      "\\begin{tabular}{lllllll}\n",
      "\\toprule\n",
      "Variable & Mean without abc & SD without abc & Mean with abc & SD with abc & Diff & std \\\\\n",
      "\\midrule\n",
      "age & 37.86 & 13.10 & 37.18 & 11.76 & -0.36 & (0.93) \\\\\n",
      "Are you the household head? & 0.560 & 0.497 & 0.547 & 0.498 & -0.01 & (0.02) \\\\\n",
      "Respondent is Hausa & 0.715 & 0.452 & 0.721 & 0.449 & 0.01 & (0.03) \\\\\n",
      "Number of household members & 8.422 & 4.054 & 8.328 & 4.074 & 0.02 & (0.25) \\\\\n",
      "Percentage of children under 15 who have some education & 0.279 & 0.276 & 0.269 & 0.270 & -0.00 & (0.02) \\\\\n",
      "Number of asset categories owned by household & 4.990 & 1.609 & 4.979 & 1.575 & -0.03 & (0.10) \\\\\n",
      "Household experienced drought in past year & 0.385 & 0.487 & 0.380 & 0.486 & -0.03 & (0.03) \\\\\n",
      "Household owns a cell phone (excluding group phone) & 0.296 & 0.457 & 0.295 & 0.457 & -0.00 & (0.03) \\\\\n",
      "Access to household or village-level cell phone & 0.763 & 0.426 & 0.798 & 0.402 & 0.04* & (0.02) \\\\\n",
      "Respondent has used cell phone since last harvest & 0.542 & 0.499 & 0.573 & 0.495 & 0.04 & (0.03) \\\\\n",
      "Respondent has made call & 0.691 & 0.463 & 0.725 & 0.447 & 0.03 & (0.04) \\\\\n",
      "Respondent has received call & 0.858 & 0.349 & 0.868 & 0.339 & 0.03 & (0.03) \\\\\n",
      "\\bottomrule\n",
      "\\end{tabular}\n",
      "\n"
     ]
    }
   ],
   "source": [
    "print(latex_table)"
   ]
  },
  {
   "cell_type": "code",
   "execution_count": 75,
   "metadata": {},
   "outputs": [],
   "source": [
    "parts = latex_table.split(\"\\\\midrule\", 1)\n",
    "new_line = \"\\\\multicolumn{7}{l}{\\\\textbf{Panel A: pre-program household characteristics}}  \\\\\\\\\"\n",
    "modified_table = parts[0] + \"\\\\midrule\\n\" + new_line + parts[1]\n"
   ]
  },
  {
   "cell_type": "code",
   "execution_count": 76,
   "metadata": {},
   "outputs": [
    {
     "name": "stdout",
     "output_type": "stream",
     "text": [
      "\\begin{tabular}{lllllll}\n",
      "\\toprule\n",
      "Variable & Mean without abc & SD without abc & Mean with abc & SD with abc & Diff & std \\\\\n",
      "\\midrule\n",
      "\\multicolumn{7}{l}{\\textbf{Panel A: pre-program household characteristics}}  \\\\\n",
      "age & 37.86 & 13.10 & 37.18 & 11.76 & -0.36 & (0.93) \\\\\n",
      "Are you the household head? & 0.560 & 0.497 & 0.547 & 0.498 & -0.01 & (0.02) \\\\\n",
      "Respondent is Hausa & 0.715 & 0.452 & 0.721 & 0.449 & 0.01 & (0.03) \\\\\n",
      "Number of household members & 8.422 & 4.054 & 8.328 & 4.074 & 0.02 & (0.25) \\\\\n",
      "Percentage of children under 15 who have some education & 0.279 & 0.276 & 0.269 & 0.270 & -0.00 & (0.02) \\\\\n",
      "Number of asset categories owned by household & 4.990 & 1.609 & 4.979 & 1.575 & -0.03 & (0.10) \\\\\n",
      "Household experienced drought in past year & 0.385 & 0.487 & 0.380 & 0.486 & -0.03 & (0.03) \\\\\n",
      "Household owns a cell phone (excluding group phone) & 0.296 & 0.457 & 0.295 & 0.457 & -0.00 & (0.03) \\\\\n",
      "Access to household or village-level cell phone & 0.763 & 0.426 & 0.798 & 0.402 & 0.04* & (0.02) \\\\\n",
      "Respondent has used cell phone since last harvest & 0.542 & 0.499 & 0.573 & 0.495 & 0.04 & (0.03) \\\\\n",
      "Respondent has made call & 0.691 & 0.463 & 0.725 & 0.447 & 0.03 & (0.04) \\\\\n",
      "Respondent has received call & 0.858 & 0.349 & 0.868 & 0.339 & 0.03 & (0.03) \\\\\n",
      "\\bottomrule\n",
      "\\end{tabular}\n",
      "\n"
     ]
    }
   ],
   "source": [
    "print(modified_table)"
   ]
  },
  {
   "cell_type": "code",
   "execution_count": 100,
   "metadata": {},
   "outputs": [
    {
     "data": {
      "text/html": [
       "<div>\n",
       "<style scoped>\n",
       "    .dataframe tbody tr th:only-of-type {\n",
       "        vertical-align: middle;\n",
       "    }\n",
       "\n",
       "    .dataframe tbody tr th {\n",
       "        vertical-align: top;\n",
       "    }\n",
       "\n",
       "    .dataframe thead th {\n",
       "        text-align: right;\n",
       "    }\n",
       "</style>\n",
       "<table border=\"1\" class=\"dataframe\">\n",
       "  <thead>\n",
       "    <tr style=\"text-align: right;\">\n",
       "      <th></th>\n",
       "      <th>Variable</th>\n",
       "      <th>varlab</th>\n",
       "      <th>Mean without abc</th>\n",
       "      <th>SD without abc</th>\n",
       "      <th>Mean with abc</th>\n",
       "      <th>SD with abc</th>\n",
       "    </tr>\n",
       "  </thead>\n",
       "  <tbody>\n",
       "    <tr>\n",
       "      <th>0</th>\n",
       "      <td>levelno</td>\n",
       "      <td>Level of Instruction of Teacher</td>\n",
       "      <td>8.323</td>\n",
       "      <td>2.084</td>\n",
       "      <td>8.572</td>\n",
       "      <td>1.779</td>\n",
       "    </tr>\n",
       "    <tr>\n",
       "      <th>1</th>\n",
       "      <td>teacherage</td>\n",
       "      <td>Age of Teacher</td>\n",
       "      <td>33.06</td>\n",
       "      <td>9.158</td>\n",
       "      <td>32.71</td>\n",
       "      <td>8.067</td>\n",
       "    </tr>\n",
       "    <tr>\n",
       "      <th>2</th>\n",
       "      <td>femaleteacher</td>\n",
       "      <td>Female Teacher</td>\n",
       "      <td>0.317</td>\n",
       "      <td>0.467</td>\n",
       "      <td>0.368</td>\n",
       "      <td>0.484</td>\n",
       "    </tr>\n",
       "    <tr>\n",
       "      <th>3</th>\n",
       "      <td>local</td>\n",
       "      <td>Teacher from Same Village</td>\n",
       "      <td>0.757</td>\n",
       "      <td>0.430</td>\n",
       "      <td>0.682</td>\n",
       "      <td>0.467</td>\n",
       "    </tr>\n",
       "  </tbody>\n",
       "</table>\n",
       "</div>"
      ],
      "text/plain": [
       "        Variable                           varlab Mean without abc  \\\n",
       "0        levelno  Level of Instruction of Teacher            8.323   \n",
       "1     teacherage                   Age of Teacher            33.06   \n",
       "2  femaleteacher                   Female Teacher            0.317   \n",
       "3          local        Teacher from Same Village            0.757   \n",
       "\n",
       "  SD without abc Mean with abc SD with abc  \n",
       "0          2.084         8.572       1.779  \n",
       "1          9.158         32.71       8.067  \n",
       "2          0.467         0.368       0.484  \n",
       "3          0.430         0.682       0.467  "
      ]
     },
     "execution_count": 100,
     "metadata": {},
     "output_type": "execute_result"
    }
   ],
   "source": [
    "data = pd.read_stata('../02. Datasets/Table1_PanelB_mean_std.dta')\n",
    "data.columns = data.iloc[0]\n",
    "# Drop the first row\n",
    "data = data.drop(0).reset_index(drop=True)\n",
    "j = 4\n",
    "for i in range(1, j):\n",
    "    data.loc[i, 'SD'] = data.loc[i, 'Mean']\n",
    "    data.loc[i, 'Mean'] = data.loc[i, 'Variable']\n",
    "    data.loc[i, 'Variable'] = data.loc[i, 'abc']\n",
    "    data.loc[i, 'abc'] = 0\n",
    "\n",
    "    data.loc[j + i, 'SD'] = data.loc[j + i, 'Mean']\n",
    "    data.loc[j + i, 'Mean'] = data.loc[j + i, 'Variable']\n",
    "    data.loc[j + i, 'Variable'] = data.loc[j + i, 'abc']\n",
    "    data.loc[j + i, 'abc'] = 1\n",
    "\n",
    "df = pd.read_excel('../02. Datasets/variable__label_correspondence_teacher.xlsx')\n",
    "data['Variable'].replace('femaleteac~r', 'femaleteacher', inplace = True)\n",
    "\n",
    "\n",
    "data = data.merge(df, left_on='Variable', right_on='name', how='left')\n",
    "dataframe = data[['Variable', 'varlab', 'Mean', 'SD', 'abc']]\n",
    "# print(dataframe)\n",
    "df_abc_0 = dataframe.iloc[:j].reset_index(drop=True)\n",
    "df_abc_1 = dataframe.iloc[j:][['varlab', 'Mean', 'SD']].reset_index(drop=True)\n",
    "\n",
    "df_abc_1.rename(columns={'Mean': 'Mean with abc', 'SD': 'SD with abc'}, inplace=True)\n",
    "# print(df_abc_0)\n",
    "result_df = pd.merge(df_abc_0, df_abc_1, on='varlab', how='left')\n",
    "result_df.rename(columns={'Mean': 'Mean without abc', 'SD': 'SD without abc'}, inplace=True)\n",
    "result_df.drop(columns = ['abc'], inplace = True)\n",
    "result_df"
   ]
  },
  {
   "cell_type": "code",
   "execution_count": 101,
   "metadata": {},
   "outputs": [
    {
     "data": {
      "text/html": [
       "<div>\n",
       "<style scoped>\n",
       "    .dataframe tbody tr th:only-of-type {\n",
       "        vertical-align: middle;\n",
       "    }\n",
       "\n",
       "    .dataframe tbody tr th {\n",
       "        vertical-align: top;\n",
       "    }\n",
       "\n",
       "    .dataframe thead th {\n",
       "        text-align: right;\n",
       "    }\n",
       "</style>\n",
       "<table border=\"1\" class=\"dataframe\">\n",
       "  <thead>\n",
       "    <tr style=\"text-align: right;\">\n",
       "      <th>VARIABLES</th>\n",
       "      <th>Name</th>\n",
       "      <th>Diff</th>\n",
       "      <th>std</th>\n",
       "    </tr>\n",
       "  </thead>\n",
       "  <tbody>\n",
       "    <tr>\n",
       "      <th>0</th>\n",
       "      <td>levelno</td>\n",
       "      <td>0.08</td>\n",
       "      <td>(0.22)</td>\n",
       "    </tr>\n",
       "    <tr>\n",
       "      <th>1</th>\n",
       "      <td>teacherage</td>\n",
       "      <td>-0.31</td>\n",
       "      <td>(1.18)</td>\n",
       "    </tr>\n",
       "    <tr>\n",
       "      <th>2</th>\n",
       "      <td>femaleteacher</td>\n",
       "      <td>0.06</td>\n",
       "      <td>(0.04)</td>\n",
       "    </tr>\n",
       "    <tr>\n",
       "      <th>3</th>\n",
       "      <td>local</td>\n",
       "      <td>-0.02</td>\n",
       "      <td>(0.05)</td>\n",
       "    </tr>\n",
       "  </tbody>\n",
       "</table>\n",
       "</div>"
      ],
      "text/plain": [
       "VARIABLES           Name   Diff     std\n",
       "0                levelno   0.08  (0.22)\n",
       "1             teacherage  -0.31  (1.18)\n",
       "2          femaleteacher   0.06  (0.04)\n",
       "3                  local  -0.02  (0.05)"
      ]
     },
     "execution_count": 101,
     "metadata": {},
     "output_type": "execute_result"
    }
   ],
   "source": [
    "\n",
    "difference = pd.read_stata('../02. Datasets/Table1_PanelB_dta.dta')\n",
    "difference.columns = difference.iloc[1]\n",
    "# Drop the first row\n",
    "difference = difference.drop(0).reset_index(drop=True)\n",
    "difference = difference.drop(0).reset_index(drop=True)\n",
    "\n",
    "result_data = pd.DataFrame(difference.iloc[1])\n",
    "result_data['std'] = difference.iloc[2]\n",
    "result_data.columns = result_data.iloc[0]\n",
    "\n",
    "result_data.drop('VARIABLES', inplace=True)\n",
    "\n",
    "result_data.reset_index(drop = False, inplace = True)\n",
    "result_data.reset_index(drop = True, inplace = True)\n",
    "result_data.rename(columns = {1: 'Name', 'abc': 'Diff', '': 'std'}, inplace = True)\n",
    "result_data.reset_index(drop = True, inplace = True)\n",
    "result_data"
   ]
  },
  {
   "cell_type": "code",
   "execution_count": 102,
   "metadata": {},
   "outputs": [],
   "source": [
    "result_df = pd.merge(result_df, result_data, left_on= 'Variable', right_on='Name', how='left')\n",
    "result_df.drop(columns = ['Variable', 'Name'], inplace = True)\n",
    "result_df.rename(columns = {'varlab': 'Variable'}, inplace = True)\n",
    "latex_table  = result_df.to_latex(index=False, escape=False)"
   ]
  },
  {
   "cell_type": "code",
   "execution_count": 103,
   "metadata": {},
   "outputs": [],
   "source": [
    "parts = latex_table.split(\"\\\\midrule\", 1)\n",
    "parts = parts[1].split(\"\\\\bottomrule\", 1)\n",
    "new_line = \"\\\\multicolumn{7}{l}{\\\\textbf{Panel B: pre-program Teacher characteristics}}  \\\\\\\\\"\n",
    "added_table1 = new_line + parts[0]\n"
   ]
  },
  {
   "cell_type": "code",
   "execution_count": 104,
   "metadata": {},
   "outputs": [
    {
     "name": "stdout",
     "output_type": "stream",
     "text": [
      "\\begin{tabular}{lllllll}\n",
      "\\toprule\n",
      "Variable & Mean without abc & SD without abc & Mean with abc & SD with abc & Diff & std \\\\\n",
      "\\midrule\n",
      "Level of Instruction of Teacher & 8.323 & 2.084 & 8.572 & 1.779 & 0.08 & (0.22) \\\\\n",
      "Age of Teacher & 33.06 & 9.158 & 32.71 & 8.067 & -0.31 & (1.18) \\\\\n",
      "Female Teacher & 0.317 & 0.467 & 0.368 & 0.484 & 0.06 & (0.04) \\\\\n",
      "Teacher from Same Village & 0.757 & 0.430 & 0.682 & 0.467 & -0.02 & (0.05) \\\\\n",
      "\\bottomrule\n",
      "\\end{tabular}\n",
      "\n"
     ]
    }
   ],
   "source": [
    "print(latex_table)"
   ]
  },
  {
   "cell_type": "code",
   "execution_count": 105,
   "metadata": {},
   "outputs": [
    {
     "data": {
      "text/html": [
       "<div>\n",
       "<style scoped>\n",
       "    .dataframe tbody tr th:only-of-type {\n",
       "        vertical-align: middle;\n",
       "    }\n",
       "\n",
       "    .dataframe tbody tr th {\n",
       "        vertical-align: top;\n",
       "    }\n",
       "\n",
       "    .dataframe thead th {\n",
       "        text-align: right;\n",
       "    }\n",
       "</style>\n",
       "<table border=\"1\" class=\"dataframe\">\n",
       "  <thead>\n",
       "    <tr style=\"text-align: right;\">\n",
       "      <th></th>\n",
       "      <th>Variable</th>\n",
       "      <th>varlab</th>\n",
       "      <th>Mean without abc</th>\n",
       "      <th>SD without abc</th>\n",
       "      <th>Mean with abc</th>\n",
       "      <th>SD with abc</th>\n",
       "    </tr>\n",
       "  </thead>\n",
       "  <tbody>\n",
       "    <tr>\n",
       "      <th>0</th>\n",
       "      <td>writez1</td>\n",
       "      <td>Baseline literacy test Z-score</td>\n",
       "      <td>-1.03e-08</td>\n",
       "      <td>1.000</td>\n",
       "      <td>-0.0269</td>\n",
       "      <td>0.886</td>\n",
       "    </tr>\n",
       "    <tr>\n",
       "      <th>1</th>\n",
       "      <td>mathz1</td>\n",
       "      <td>Baseline numeracy test Z-score</td>\n",
       "      <td>-6.69e-09</td>\n",
       "      <td>1.000</td>\n",
       "      <td>-0.0712</td>\n",
       "      <td>0.816</td>\n",
       "    </tr>\n",
       "  </tbody>\n",
       "</table>\n",
       "</div>"
      ],
      "text/plain": [
       "  Variable                          varlab Mean without abc SD without abc  \\\n",
       "0  writez1  Baseline literacy test Z-score        -1.03e-08          1.000   \n",
       "1   mathz1  Baseline numeracy test Z-score        -6.69e-09          1.000   \n",
       "\n",
       "  Mean with abc SD with abc  \n",
       "0       -0.0269       0.886  \n",
       "1       -0.0712       0.816  "
      ]
     },
     "execution_count": 105,
     "metadata": {},
     "output_type": "execute_result"
    }
   ],
   "source": [
    "data = pd.read_stata('../02. Datasets/Table1_PanelC_mean_std.dta')\n",
    "data.columns = data.iloc[0]\n",
    "# Drop the first row\n",
    "data = data.drop(0).reset_index(drop=True)\n",
    "j = 2\n",
    "for i in range(1, j):\n",
    "    data.loc[i, 'SD'] = data.loc[i, 'Mean']\n",
    "    data.loc[i, 'Mean'] = data.loc[i, 'Variable']\n",
    "    data.loc[i, 'Variable'] = data.loc[i, 'abc']\n",
    "    data.loc[i, 'abc'] = 0\n",
    "\n",
    "    data.loc[j + i, 'SD'] = data.loc[j + i, 'Mean']\n",
    "    data.loc[j + i, 'Mean'] = data.loc[j + i, 'Variable']\n",
    "    data.loc[j + i, 'Variable'] = data.loc[j + i, 'abc']\n",
    "    data.loc[j + i, 'abc'] = 1\n",
    "\n",
    "df = pd.read_excel('../02. Datasets/variable__label_correspondence_test_score.xlsx')\n",
    "\n",
    "data = data.merge(df, left_on='Variable', right_on='name', how='left')\n",
    "dataframe = data[['Variable', 'varlab', 'Mean', 'SD', 'abc']]\n",
    "\n",
    "df_abc_0 = dataframe.iloc[:j].reset_index(drop=True)\n",
    "df_abc_1 = dataframe.iloc[j:][['varlab', 'Mean', 'SD']].reset_index(drop=True)\n",
    "\n",
    "df_abc_1.rename(columns={'Mean': 'Mean with abc', 'SD': 'SD with abc'}, inplace=True)\n",
    "# print(df_abc_0)\n",
    "result_df = pd.merge(df_abc_0, df_abc_1, on='varlab', how='left')\n",
    "result_df.rename(columns={'Mean': 'Mean without abc', 'SD': 'SD without abc'}, inplace=True)\n",
    "result_df.drop(columns = ['abc'], inplace = True)\n",
    "result_df"
   ]
  },
  {
   "cell_type": "code",
   "execution_count": 106,
   "metadata": {},
   "outputs": [
    {
     "data": {
      "text/html": [
       "<div>\n",
       "<style scoped>\n",
       "    .dataframe tbody tr th:only-of-type {\n",
       "        vertical-align: middle;\n",
       "    }\n",
       "\n",
       "    .dataframe tbody tr th {\n",
       "        vertical-align: top;\n",
       "    }\n",
       "\n",
       "    .dataframe thead th {\n",
       "        text-align: right;\n",
       "    }\n",
       "</style>\n",
       "<table border=\"1\" class=\"dataframe\">\n",
       "  <thead>\n",
       "    <tr style=\"text-align: right;\">\n",
       "      <th>VARIABLES</th>\n",
       "      <th>Name</th>\n",
       "      <th>Diff</th>\n",
       "      <th>std</th>\n",
       "    </tr>\n",
       "  </thead>\n",
       "  <tbody>\n",
       "    <tr>\n",
       "      <th>0</th>\n",
       "      <td>writez1</td>\n",
       "      <td>-0.02</td>\n",
       "      <td>(0.04)</td>\n",
       "    </tr>\n",
       "    <tr>\n",
       "      <th>1</th>\n",
       "      <td>mathz1</td>\n",
       "      <td>-0.06</td>\n",
       "      <td>(0.05)</td>\n",
       "    </tr>\n",
       "  </tbody>\n",
       "</table>\n",
       "</div>"
      ],
      "text/plain": [
       "VARIABLES     Name   Diff     std\n",
       "0          writez1  -0.02  (0.04)\n",
       "1           mathz1  -0.06  (0.05)"
      ]
     },
     "execution_count": 106,
     "metadata": {},
     "output_type": "execute_result"
    }
   ],
   "source": [
    "\n",
    "difference = pd.read_stata('../02. Datasets/Table1_PanelC_dta.dta')\n",
    "difference.columns = difference.iloc[1]\n",
    "# Drop the first row\n",
    "difference = difference.drop(0).reset_index(drop=True)\n",
    "difference = difference.drop(0).reset_index(drop=True)\n",
    "\n",
    "result_data = pd.DataFrame(difference.iloc[1])\n",
    "result_data['std'] = difference.iloc[2]\n",
    "result_data.columns = result_data.iloc[0]\n",
    "\n",
    "result_data.drop('VARIABLES', inplace=True)\n",
    "\n",
    "result_data.reset_index(drop = False, inplace = True)\n",
    "result_data.reset_index(drop = True, inplace = True)\n",
    "result_data.rename(columns = {1: 'Name', 'abc': 'Diff', '': 'std'}, inplace = True)\n",
    "result_data.reset_index(drop = True, inplace = True)\n",
    "result_data"
   ]
  },
  {
   "cell_type": "code",
   "execution_count": 107,
   "metadata": {},
   "outputs": [],
   "source": [
    "result_df = pd.merge(result_df, result_data, left_on= 'Variable', right_on='Name', how='left')\n",
    "result_df.drop(columns = ['Variable', 'Name'], inplace = True)\n",
    "result_df.rename(columns = {'varlab': 'Variable'}, inplace = True)\n",
    "latex_table  = result_df.to_latex(index=False, escape=False)"
   ]
  },
  {
   "cell_type": "code",
   "execution_count": 108,
   "metadata": {},
   "outputs": [
    {
     "name": "stdout",
     "output_type": "stream",
     "text": [
      "\\begin{tabular}{lllllll}\n",
      "\\toprule\n",
      "Variable & Mean without abc & SD without abc & Mean with abc & SD with abc & Diff & std \\\\\n",
      "\\midrule\n",
      "Baseline literacy test Z-score & -1.03e-08 & 1.000 & -0.0269 & 0.886 & -0.02 & (0.04) \\\\\n",
      "Baseline numeracy test Z-score & -6.69e-09 & 1.000 & -0.0712 & 0.816 & -0.06 & (0.05) \\\\\n",
      "\\bottomrule\n",
      "\\end{tabular}\n",
      "\n"
     ]
    }
   ],
   "source": [
    "print(latex_table)"
   ]
  },
  {
   "cell_type": "code",
   "execution_count": 109,
   "metadata": {},
   "outputs": [],
   "source": [
    "parts = latex_table.split(\"\\\\midrule\", 1)\n",
    "parts = parts[1].split(\"\\\\bottomrule\", 1)\n",
    "new_line = \"\\\\multicolumn{7}{l}{\\\\textbf{Panel C: pre-program Test-Score characteristics}}  \\\\\\\\\"\n",
    "added_table2 = new_line + parts[0]\n"
   ]
  },
  {
   "cell_type": "code",
   "execution_count": 110,
   "metadata": {},
   "outputs": [
    {
     "name": "stdout",
     "output_type": "stream",
     "text": [
      "\\begin{tabular}{lllllll}\n",
      "\\toprule\n",
      "Variable & Mean without abc & SD without abc & Mean with abc & SD with abc & Diff & std \\\\\n",
      "\\midrule\n",
      "\\multicolumn{7}{l}{\\textbf{Panel A: pre-program household characteristics}}  \\\\\n",
      "age & 37.86 & 13.10 & 37.18 & 11.76 & -0.36 & (0.93) \\\\\n",
      "Are you the household head? & 0.560 & 0.497 & 0.547 & 0.498 & -0.01 & (0.02) \\\\\n",
      "Respondent is Hausa & 0.715 & 0.452 & 0.721 & 0.449 & 0.01 & (0.03) \\\\\n",
      "Number of household members & 8.422 & 4.054 & 8.328 & 4.074 & 0.02 & (0.25) \\\\\n",
      "Percentage of children under 15 who have some education & 0.279 & 0.276 & 0.269 & 0.270 & -0.00 & (0.02) \\\\\n",
      "Number of asset categories owned by household & 4.990 & 1.609 & 4.979 & 1.575 & -0.03 & (0.10) \\\\\n",
      "Household experienced drought in past year & 0.385 & 0.487 & 0.380 & 0.486 & -0.03 & (0.03) \\\\\n",
      "Household owns a cell phone (excluding group phone) & 0.296 & 0.457 & 0.295 & 0.457 & -0.00 & (0.03) \\\\\n",
      "Access to household or village-level cell phone & 0.763 & 0.426 & 0.798 & 0.402 & 0.04* & (0.02) \\\\\n",
      "Respondent has used cell phone since last harvest & 0.542 & 0.499 & 0.573 & 0.495 & 0.04 & (0.03) \\\\\n",
      "Respondent has made call & 0.691 & 0.463 & 0.725 & 0.447 & 0.03 & (0.04) \\\\\n",
      "Respondent has received call & 0.858 & 0.349 & 0.868 & 0.339 & 0.03 & (0.03) \\\\\n",
      "\\multicolumn{7}{l}{\\textbf{Panel B: pre-program Teacher characteristics}}  \\\\\n",
      "Level of Instruction of Teacher & 8.323 & 2.084 & 8.572 & 1.779 & 0.08 & (0.22) \\\\\n",
      "Age of Teacher & 33.06 & 9.158 & 32.71 & 8.067 & -0.31 & (1.18) \\\\\n",
      "Female Teacher & 0.317 & 0.467 & 0.368 & 0.484 & 0.06 & (0.04) \\\\\n",
      "Teacher from Same Village & 0.757 & 0.430 & 0.682 & 0.467 & -0.02 & (0.05) \\\\\n",
      "\\multicolumn{7}{l}{\\textbf{Panel C: pre-program Test-Score characteristics}}  \\\\\n",
      "Baseline literacy test Z-score & -1.03e-08 & 1.000 & -0.0269 & 0.886 & -0.02 & (0.04) \\\\\n",
      "Baseline numeracy test Z-score & -6.69e-09 & 1.000 & -0.0712 & 0.816 & -0.06 & (0.05) \\\\\n",
      "\\bottomrule\n",
      "\\end{tabular}\n",
      "\n"
     ]
    }
   ],
   "source": [
    "new_table = modified_table.split('\\\\bottomrule', 1)\n",
    "new_table = new_table[0] + added_table1 + added_table2 + \"\\\\bottomrule\" + new_table[1]\n",
    "print(new_table)"
   ]
  },
  {
   "cell_type": "code",
   "execution_count": 111,
   "metadata": {},
   "outputs": [
    {
     "data": {
      "text/plain": [
       "'../manuscript/Tables/contamination_of_the_randomization.tex'"
      ]
     },
     "execution_count": 111,
     "metadata": {},
     "output_type": "execute_result"
    }
   ],
   "source": [
    "# File path\n",
    "file_path = '../manuscript/Tables/contamination_of_the_randomization.tex'\n",
    "\n",
    "# Save the LaTeX table to a file\n",
    "with open(file_path, 'w') as f:\n",
    "    f.write(new_table)\n",
    "\n",
    "file_path"
   ]
  },
  {
   "cell_type": "code",
   "execution_count": null,
   "metadata": {},
   "outputs": [],
   "source": []
  }
 ],
 "metadata": {
  "kernelspec": {
   "display_name": "base",
   "language": "python",
   "name": "python3"
  },
  "language_info": {
   "codemirror_mode": {
    "name": "ipython",
    "version": 3
   },
   "file_extension": ".py",
   "mimetype": "text/x-python",
   "name": "python",
   "nbconvert_exporter": "python",
   "pygments_lexer": "ipython3",
   "version": "3.11.7"
  }
 },
 "nbformat": 4,
 "nbformat_minor": 2
}
