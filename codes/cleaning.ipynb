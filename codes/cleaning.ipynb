{
 "cells": [
  {
   "cell_type": "code",
   "execution_count": 1,
   "metadata": {},
   "outputs": [],
   "source": [
    "import pandas as pd"
   ]
  },
  {
   "cell_type": "code",
   "execution_count": 2,
   "metadata": {},
   "outputs": [],
   "source": [
    "data = pd.read_stata('../02. Datasets/ttest_with_result_mean_std.dta')\n",
    "data.columns = data.iloc[0]\n",
    "# Drop the first row\n",
    "data = data.drop(0).reset_index(drop=True)"
   ]
  },
  {
   "cell_type": "code",
   "execution_count": 3,
   "metadata": {},
   "outputs": [],
   "source": [
    "for i in range(1, 12):\n",
    "    data.loc[i, 'SD'] = data.loc[i, 'Mean']\n",
    "    data.loc[i, 'Mean'] = data.loc[i, 'Variable']\n",
    "    data.loc[i, 'Variable'] = data.loc[i, 'abc']\n",
    "    data.loc[i, 'abc'] = 0\n",
    "\n",
    "    data.loc[12 + i, 'SD'] = data.loc[12 + i, 'Mean']\n",
    "    data.loc[12 + i, 'Mean'] = data.loc[12 + i, 'Variable']\n",
    "    data.loc[12 + i, 'Variable'] = data.loc[12 + i, 'abc']\n",
    "    data.loc[12 + i, 'abc'] = 1"
   ]
  },
  {
   "cell_type": "markdown",
   "metadata": {},
   "source": [
    "now we merge the table with the given label"
   ]
  },
  {
   "cell_type": "code",
   "execution_count": 4,
   "metadata": {},
   "outputs": [],
   "source": [
    "df = pd.read_excel('../02. Datasets/variable__label_correspondence.xlsx')\n",
    "df['varlab'] = df['varlab'].str.replace(r'^s\\d+q\\d+_\\d+\\s+', '', regex=True)\n",
    "df['varlab'] = df['varlab'].str.replace(r's22q1_15a ', '') # s22q1_15a \n",
    "df['varlab'] = df['varlab'].str.replace(r'id11 ', '')"
   ]
  },
  {
   "cell_type": "code",
   "execution_count": 5,
   "metadata": {},
   "outputs": [],
   "source": [
    "data['Variable'].replace('edchild pe~t', 'edchild_percent', inplace  = True)\n",
    "data['Variable'].replace('accesscell~e', 'accesscellphone', inplace  = True)\n",
    "data['Variable'].replace('eth hausa\t', 'edchild_percent', inplace  = True)\n",
    "data['Variable'].replace('accesscell~e', 'accesscellphone', inplace  = True)\n"
   ]
  },
  {
   "cell_type": "code",
   "execution_count": 6,
   "metadata": {},
   "outputs": [],
   "source": [
    "data['Variable'] = data['Variable'] \\\n",
    "    .str.replace(' ', '_') \\\n",
    "    .str.replace('edchild_pe~t', 'edchild_percent') \\\n",
    "    .str.replace('eth_hausa', 'eth_hausa') \\\n",
    "    .str.replace('hhmem_no', 'hhmem_no') \\\n",
    "    .str.replace('accesscell~e', 'accesscellphone')\n"
   ]
  },
  {
   "cell_type": "code",
   "execution_count": 7,
   "metadata": {},
   "outputs": [],
   "source": [
    "data = data.merge(df, left_on='Variable', right_on='name', how='left')"
   ]
  },
  {
   "cell_type": "code",
   "execution_count": 8,
   "metadata": {},
   "outputs": [],
   "source": [
    "dataframe = data[['Variable', 'varlab', 'Mean', 'SD', 'abc']]"
   ]
  },
  {
   "cell_type": "code",
   "execution_count": 9,
   "metadata": {},
   "outputs": [],
   "source": [
    "df_abc_0 = dataframe[dataframe['abc'] == 0].reset_index(drop=True)\n",
    "df_abc_1 = dataframe[dataframe['abc'] == 1][['varlab', 'Mean', 'SD']].reset_index(drop=True)\n",
    "\n",
    "df_abc_1.rename(columns={'Mean': 'Mean with abc', 'SD': 'SD with abc'}, inplace=True)\n",
    "\n",
    "result_df = pd.merge(df_abc_0, df_abc_1, on='varlab', how='left')\n",
    "result_df.rename(columns={'Mean': 'Mean without abc', 'SD': 'SD without abc'}, inplace=True)"
   ]
  },
  {
   "cell_type": "code",
   "execution_count": 10,
   "metadata": {},
   "outputs": [],
   "source": [
    "result_df.drop(columns = ['abc'], inplace = True)"
   ]
  },
  {
   "cell_type": "code",
   "execution_count": 11,
   "metadata": {},
   "outputs": [
    {
     "data": {
      "text/html": [
       "<div>\n",
       "<style scoped>\n",
       "    .dataframe tbody tr th:only-of-type {\n",
       "        vertical-align: middle;\n",
       "    }\n",
       "\n",
       "    .dataframe tbody tr th {\n",
       "        vertical-align: top;\n",
       "    }\n",
       "\n",
       "    .dataframe thead th {\n",
       "        text-align: right;\n",
       "    }\n",
       "</style>\n",
       "<table border=\"1\" class=\"dataframe\">\n",
       "  <thead>\n",
       "    <tr style=\"text-align: right;\">\n",
       "      <th></th>\n",
       "      <th>Variable</th>\n",
       "      <th>varlab</th>\n",
       "      <th>Mean without abc</th>\n",
       "      <th>SD without abc</th>\n",
       "      <th>Mean with abc</th>\n",
       "      <th>SD with abc</th>\n",
       "    </tr>\n",
       "  </thead>\n",
       "  <tbody>\n",
       "    <tr>\n",
       "      <th>0</th>\n",
       "      <td>hhhead</td>\n",
       "      <td>Are you the household head?</td>\n",
       "      <td>0.560</td>\n",
       "      <td>0.497</td>\n",
       "      <td>0.547</td>\n",
       "      <td>0.498</td>\n",
       "    </tr>\n",
       "    <tr>\n",
       "      <th>1</th>\n",
       "      <td>eth_hausa</td>\n",
       "      <td>Respondent is Hausa</td>\n",
       "      <td>0.715</td>\n",
       "      <td>0.452</td>\n",
       "      <td>0.721</td>\n",
       "      <td>0.449</td>\n",
       "    </tr>\n",
       "    <tr>\n",
       "      <th>2</th>\n",
       "      <td>hhmem_no</td>\n",
       "      <td>Number of household members</td>\n",
       "      <td>8.422</td>\n",
       "      <td>4.054</td>\n",
       "      <td>8.328</td>\n",
       "      <td>4.074</td>\n",
       "    </tr>\n",
       "    <tr>\n",
       "      <th>3</th>\n",
       "      <td>edchild_percent</td>\n",
       "      <td>Percentage of children under 15 who have some ...</td>\n",
       "      <td>0.279</td>\n",
       "      <td>0.276</td>\n",
       "      <td>0.269</td>\n",
       "      <td>0.270</td>\n",
       "    </tr>\n",
       "    <tr>\n",
       "      <th>4</th>\n",
       "      <td>assets</td>\n",
       "      <td>Number of asset categories owned by household</td>\n",
       "      <td>4.990</td>\n",
       "      <td>1.609</td>\n",
       "      <td>4.979</td>\n",
       "      <td>1.575</td>\n",
       "    </tr>\n",
       "    <tr>\n",
       "      <th>5</th>\n",
       "      <td>drought</td>\n",
       "      <td>Household experienced drought in past year</td>\n",
       "      <td>0.385</td>\n",
       "      <td>0.487</td>\n",
       "      <td>0.380</td>\n",
       "      <td>0.486</td>\n",
       "    </tr>\n",
       "    <tr>\n",
       "      <th>6</th>\n",
       "      <td>cellphone</td>\n",
       "      <td>Household owns a cell phone (excluding group p...</td>\n",
       "      <td>0.296</td>\n",
       "      <td>0.457</td>\n",
       "      <td>0.295</td>\n",
       "      <td>0.457</td>\n",
       "    </tr>\n",
       "    <tr>\n",
       "      <th>7</th>\n",
       "      <td>accesscellphone</td>\n",
       "      <td>Access to household or village-level cell phone</td>\n",
       "      <td>0.763</td>\n",
       "      <td>0.426</td>\n",
       "      <td>0.798</td>\n",
       "      <td>0.402</td>\n",
       "    </tr>\n",
       "    <tr>\n",
       "      <th>8</th>\n",
       "      <td>usecellphone</td>\n",
       "      <td>Respondent has used cell phone since last harvest</td>\n",
       "      <td>0.542</td>\n",
       "      <td>0.499</td>\n",
       "      <td>0.573</td>\n",
       "      <td>0.495</td>\n",
       "    </tr>\n",
       "    <tr>\n",
       "      <th>9</th>\n",
       "      <td>makecall</td>\n",
       "      <td>Respondent has made call</td>\n",
       "      <td>0.691</td>\n",
       "      <td>0.463</td>\n",
       "      <td>0.725</td>\n",
       "      <td>0.447</td>\n",
       "    </tr>\n",
       "    <tr>\n",
       "      <th>10</th>\n",
       "      <td>receivecall</td>\n",
       "      <td>Respondent has received call</td>\n",
       "      <td>0.858</td>\n",
       "      <td>0.349</td>\n",
       "      <td>0.868</td>\n",
       "      <td>0.339</td>\n",
       "    </tr>\n",
       "  </tbody>\n",
       "</table>\n",
       "</div>"
      ],
      "text/plain": [
       "           Variable                                             varlab  \\\n",
       "0            hhhead                        Are you the household head?   \n",
       "1         eth_hausa                                Respondent is Hausa   \n",
       "2          hhmem_no                        Number of household members   \n",
       "3   edchild_percent  Percentage of children under 15 who have some ...   \n",
       "4            assets      Number of asset categories owned by household   \n",
       "5           drought         Household experienced drought in past year   \n",
       "6         cellphone  Household owns a cell phone (excluding group p...   \n",
       "7   accesscellphone    Access to household or village-level cell phone   \n",
       "8      usecellphone  Respondent has used cell phone since last harvest   \n",
       "9          makecall                           Respondent has made call   \n",
       "10      receivecall                       Respondent has received call   \n",
       "\n",
       "   Mean without abc SD without abc Mean with abc SD with abc  \n",
       "0             0.560          0.497         0.547       0.498  \n",
       "1             0.715          0.452         0.721       0.449  \n",
       "2             8.422          4.054         8.328       4.074  \n",
       "3             0.279          0.276         0.269       0.270  \n",
       "4             4.990          1.609         4.979       1.575  \n",
       "5             0.385          0.487         0.380       0.486  \n",
       "6             0.296          0.457         0.295       0.457  \n",
       "7             0.763          0.426         0.798       0.402  \n",
       "8             0.542          0.499         0.573       0.495  \n",
       "9             0.691          0.463         0.725       0.447  \n",
       "10            0.858          0.349         0.868       0.339  "
      ]
     },
     "execution_count": 11,
     "metadata": {},
     "output_type": "execute_result"
    }
   ],
   "source": [
    "result_df"
   ]
  },
  {
   "cell_type": "code",
   "execution_count": 12,
   "metadata": {},
   "outputs": [],
   "source": [
    "difference = pd.read_stata('../02. Datasets/Table1_PanelA_dta.dta')\n",
    "difference.columns = difference.iloc[1]\n",
    "# Drop the first row\n",
    "difference = difference.drop(0).reset_index(drop=True)\n",
    "difference = difference.drop(0).reset_index(drop=True)\n",
    "\n",
    "result_data = pd.DataFrame(difference.iloc[1])\n",
    "result_data['std'] = difference.iloc[2]\n",
    "result_data.columns = result_data.iloc[0]\n",
    "\n",
    "result_data.drop('VARIABLES', inplace=True)\n",
    "\n",
    "result_data.reset_index(drop = False, inplace = True)\n",
    "result_data.reset_index(drop = True, inplace = True)"
   ]
  },
  {
   "cell_type": "code",
   "execution_count": 13,
   "metadata": {},
   "outputs": [],
   "source": [
    "result_data.rename(columns = {1: 'Name', 'abc': 'Diff', '': 'std'}, inplace = True)"
   ]
  },
  {
   "cell_type": "code",
   "execution_count": 14,
   "metadata": {},
   "outputs": [],
   "source": [
    "result_data.reset_index(drop = True, inplace = True)"
   ]
  },
  {
   "cell_type": "code",
   "execution_count": 15,
   "metadata": {},
   "outputs": [],
   "source": [
    "result_df = pd.merge(result_df, result_data, left_on= 'Variable', right_on='Name', how='left')"
   ]
  },
  {
   "cell_type": "code",
   "execution_count": 16,
   "metadata": {},
   "outputs": [],
   "source": [
    "result_df.drop(columns = ['Variable', 'Name'], inplace = True)\n",
    "result_df.rename(columns = {'varlab': 'Variable'}, inplace = True)"
   ]
  },
  {
   "cell_type": "code",
   "execution_count": 31,
   "metadata": {},
   "outputs": [],
   "source": [
    "latex_table  = result_df.to_latex(index=False, escape=False)"
   ]
  },
  {
   "cell_type": "code",
   "execution_count": 32,
   "metadata": {},
   "outputs": [
    {
     "name": "stdout",
     "output_type": "stream",
     "text": [
      "\\begin{tabular}{lllllll}\n",
      "\\toprule\n",
      "Variable & Mean without abc & SD without abc & Mean with abc & SD with abc & Diff & std \\\\\n",
      "\\midrule\n",
      "Are you the household head? & 0.560 & 0.497 & 0.547 & 0.498 & -0.01 & (0.02) \\\\\n",
      "Respondent is Hausa & 0.715 & 0.452 & 0.721 & 0.449 & 0.01 & (0.03) \\\\\n",
      "Number of household members & 8.422 & 4.054 & 8.328 & 4.074 & 0.02 & (0.25) \\\\\n",
      "Percentage of children under 15 who have some education & 0.279 & 0.276 & 0.269 & 0.270 & -0.00 & (0.02) \\\\\n",
      "Number of asset categories owned by household & 4.990 & 1.609 & 4.979 & 1.575 & -0.03 & (0.10) \\\\\n",
      "Household experienced drought in past year & 0.385 & 0.487 & 0.380 & 0.486 & -0.03 & (0.03) \\\\\n",
      "Household owns a cell phone (excluding group phone) & 0.296 & 0.457 & 0.295 & 0.457 & -0.00 & (0.03) \\\\\n",
      "Access to household or village-level cell phone & 0.763 & 0.426 & 0.798 & 0.402 & 0.04* & (0.02) \\\\\n",
      "Respondent has used cell phone since last harvest & 0.542 & 0.499 & 0.573 & 0.495 & 0.04 & (0.03) \\\\\n",
      "Respondent has made call & 0.691 & 0.463 & 0.725 & 0.447 & 0.03 & (0.04) \\\\\n",
      "Respondent has received call & 0.858 & 0.349 & 0.868 & 0.339 & 0.03 & (0.03) \\\\\n",
      "\\bottomrule\n",
      "\\end{tabular}\n",
      "\n"
     ]
    }
   ],
   "source": [
    "print(latex_table)"
   ]
  },
  {
   "cell_type": "code",
   "execution_count": 36,
   "metadata": {},
   "outputs": [],
   "source": [
    "parts = latex_table.split(\"\\\\midrule\", 1)\n",
    "new_line = \"\\\\multicolumn{7}{l}{\\\\textbf{Panel A: pre-program household characteristics}}  \\\\\\\\\"\n",
    "modified_table = parts[0] + \"\\\\midrule\\n\" + new_line + parts[1]\n"
   ]
  },
  {
   "cell_type": "code",
   "execution_count": 37,
   "metadata": {},
   "outputs": [
    {
     "name": "stdout",
     "output_type": "stream",
     "text": [
      "\\begin{tabular}{lllllll}\n",
      "\\toprule\n",
      "Variable & Mean without abc & SD without abc & Mean with abc & SD with abc & Diff & std \\\\\n",
      "\\midrule\n",
      "\\multicolumn{7}{l}{\\textbf{Panel A: pre-program household characteristics}}  \\\\\n",
      "Are you the household head? & 0.560 & 0.497 & 0.547 & 0.498 & -0.01 & (0.02) \\\\\n",
      "Respondent is Hausa & 0.715 & 0.452 & 0.721 & 0.449 & 0.01 & (0.03) \\\\\n",
      "Number of household members & 8.422 & 4.054 & 8.328 & 4.074 & 0.02 & (0.25) \\\\\n",
      "Percentage of children under 15 who have some education & 0.279 & 0.276 & 0.269 & 0.270 & -0.00 & (0.02) \\\\\n",
      "Number of asset categories owned by household & 4.990 & 1.609 & 4.979 & 1.575 & -0.03 & (0.10) \\\\\n",
      "Household experienced drought in past year & 0.385 & 0.487 & 0.380 & 0.486 & -0.03 & (0.03) \\\\\n",
      "Household owns a cell phone (excluding group phone) & 0.296 & 0.457 & 0.295 & 0.457 & -0.00 & (0.03) \\\\\n",
      "Access to household or village-level cell phone & 0.763 & 0.426 & 0.798 & 0.402 & 0.04* & (0.02) \\\\\n",
      "Respondent has used cell phone since last harvest & 0.542 & 0.499 & 0.573 & 0.495 & 0.04 & (0.03) \\\\\n",
      "Respondent has made call & 0.691 & 0.463 & 0.725 & 0.447 & 0.03 & (0.04) \\\\\n",
      "Respondent has received call & 0.858 & 0.349 & 0.868 & 0.339 & 0.03 & (0.03) \\\\\n",
      "\\bottomrule\n",
      "\\end{tabular}\n",
      "\n"
     ]
    }
   ],
   "source": [
    "print(modified_table)"
   ]
  },
  {
   "cell_type": "code",
   "execution_count": 40,
   "metadata": {},
   "outputs": [
    {
     "data": {
      "text/plain": [
       "'../manuscript/Tables/contamination_of_the_randomization.tex'"
      ]
     },
     "execution_count": 40,
     "metadata": {},
     "output_type": "execute_result"
    }
   ],
   "source": [
    "# File path\n",
    "file_path = '../manuscript/Tables/contamination_of_the_randomization.tex'\n",
    "\n",
    "# Save the LaTeX table to a file\n",
    "with open(file_path, 'w') as f:\n",
    "    f.write(modified_table)\n",
    "\n",
    "file_path"
   ]
  },
  {
   "cell_type": "code",
   "execution_count": null,
   "metadata": {},
   "outputs": [],
   "source": []
  }
 ],
 "metadata": {
  "kernelspec": {
   "display_name": "base",
   "language": "python",
   "name": "python3"
  },
  "language_info": {
   "codemirror_mode": {
    "name": "ipython",
    "version": 3
   },
   "file_extension": ".py",
   "mimetype": "text/x-python",
   "name": "python",
   "nbconvert_exporter": "python",
   "pygments_lexer": "ipython3",
   "version": "3.11.7"
  }
 },
 "nbformat": 4,
 "nbformat_minor": 2
}
