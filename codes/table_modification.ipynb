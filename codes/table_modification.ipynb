{
 "cells": [
  {
   "cell_type": "code",
   "execution_count": 5,
   "metadata": {},
   "outputs": [
    {
     "name": "stdout",
     "output_type": "stream",
     "text": [
      "{\n",
      "\\def\\sym#1{\\ifmmode^{#1}\\else\\(^{#1}\\)\\fi}\n",
      "\\begin{tabular}{l*{8}{c}}\n",
      "\\toprule\n",
      "            &\\multicolumn{1}{c}{(1)}&\\multicolumn{1}{c}{(2)}&\\multicolumn{1}{c}{(3)}&\\multicolumn{1}{c}{(4)}&\\multicolumn{1}{c}{(5)}&\\multicolumn{1}{c}{(6)}&\\multicolumn{1}{c}{(7)}&\\multicolumn{1}{c}{(8)}\\\\\n",
      "            &\\multicolumn{1}{c}{literacy}&\\multicolumn{1}{c}{math}&\\multicolumn{1}{c}{literacy}&\\multicolumn{1}{c}{math}&\\multicolumn{1}{c}{literacy}&\\multicolumn{1}{c}{math}&\\multicolumn{1}{c}{literacy}&\\multicolumn{1}{c}{math}\\\\\n",
      "\\midrule\n",
      "abc         &     -0.0511         &     -0.0952\\sym{*}  &     -0.0551         &      -0.106\\sym{*}  &     -0.0556         &      -0.106\\sym{*}  &       0.200\\sym{***}&       0.230\\sym{***}\\\\\n",
      "            &    (0.0465)         &    (0.0548)         &    (0.0503)         &    (0.0594)         &    (0.0503)         &    (0.0593)         &    (0.0409)         &    (0.0424)         \\\\\n",
      "\\addlinespace\n",
      "post        &    -0.00397         &    -0.00444         &    -0.00525         &     -0.0103         &    -0.00414         &    -0.00931         &     -0.0121         &     -0.0270         \\\\\n",
      "            &    (0.0587)         &    (0.0658)         &    (0.0599)         &    (0.0680)         &    (0.0599)         &    (0.0681)         &    (0.0602)         &    (0.0692)         \\\\\n",
      "\\addlinespace\n",
      "abcpost     &       0.199\\sym{**} &       0.250\\sym{***}&       0.206\\sym{**} &       0.264\\sym{***}&       0.205\\sym{**} &       0.263\\sym{***}&       0.198\\sym{**} &       0.258\\sym{***}\\\\\n",
      "            &    (0.0880)         &    (0.0898)         &    (0.0881)         &    (0.0923)         &    (0.0881)         &    (0.0923)         &    (0.0901)         &    (0.0943)         \\\\\n",
      "\\addlinespace\n",
      "age         &                     &                     &     -0.0100\\sym{***}&    -0.00890\\sym{***}&     0.00352         &     0.00347         &     0.00355         &     0.00147         \\\\\n",
      "            &                     &                     &   (0.00102)         &   (0.00107)         &   (0.00406)         &   (0.00436)         &   (0.00385)         &   (0.00408)         \\\\\n",
      "\\addlinespace\n",
      "female      &                     &                     &      -0.423\\sym{***}&      -0.378\\sym{***}&      -0.420\\sym{***}&      -0.375\\sym{***}&      -0.420\\sym{***}&      -0.374\\sym{***}\\\\\n",
      "            &                     &                     &    (0.0325)         &    (0.0326)         &    (0.0321)         &    (0.0324)         &    (0.0319)         &    (0.0325)         \\\\\n",
      "\\addlinespace\n",
      "agesq       &                     &                     &                     &                     &   -0.000176\\sym{***}&   -0.000160\\sym{***}&   -0.000173\\sym{***}&   -0.000128\\sym{**} \\\\\n",
      "            &                     &                     &                     &                     & (0.0000494)         & (0.0000550)         & (0.0000476)         & (0.0000508)         \\\\\n",
      "\\midrule\n",
      "\\(N\\)       &       13402         &       13420         &       12823         &       12840         &       12823         &       12840         &       12823         &       12840         \\\\\n",
      "R-squared   &      0.0323         &      0.0387         &      0.0841         &      0.0824         &      0.0852         &      0.0834         &       0.131         &       0.139         \\\\\n",
      "\\bottomrule\n",
      "\\multicolumn{9}{l}{\\footnotesize Standard errors in parentheses}\\\\\n",
      "\\multicolumn{9}{l}{\\footnotesize \\sym{*} \\(p<0.1\\), \\sym{**} \\(p<0.05\\), \\sym{***} \\(p<0.01\\)}\\\\\n",
      "\\end{tabular}\n",
      "}\n",
      "\n"
     ]
    }
   ],
   "source": [
    "file_path = '../manuscript/Tables/did_result.tex'  # Replace with your .tex file path\n",
    "with open(file_path, 'r') as file:\n",
    "    content = file.read()\n",
    "print(content)"
   ]
  },
  {
   "cell_type": "code",
   "execution_count": 6,
   "metadata": {},
   "outputs": [],
   "source": [
    "file_1 = content.split('\\\\midrule', 1)\n",
    "file_2 = file_1[1].split('\\\\midrule', 1)\n",
    "add_line0 = \"Region Dummy & N & N & Y & Y & Y & Y & N & N \\\\\\\\\"\n",
    "add_line = \"\\nVillage Fixed Effect & N & N & N & N & N & N & Y & Y \\\\\\\\\"\n",
    "add_line2 = \"\\nSubdistrict Fixed Effect & N & N & Y & Y & Y & Y & N & N \\\\\\\\\"\n",
    "new_content = file_1[0] + '\\\\midrule' + file_2[0] + add_line0 + add_line + add_line2 + '\\\\midrule' + file_2[1]"
   ]
  },
  {
   "cell_type": "code",
   "execution_count": 7,
   "metadata": {},
   "outputs": [
    {
     "name": "stdout",
     "output_type": "stream",
     "text": [
      "{\n",
      "\\def\\sym#1{\\ifmmode^{#1}\\else\\(^{#1}\\)\\fi}\n",
      "\\begin{tabular}{l*{8}{c}}\n",
      "\\toprule\n",
      "            &\\multicolumn{1}{c}{(1)}&\\multicolumn{1}{c}{(2)}&\\multicolumn{1}{c}{(3)}&\\multicolumn{1}{c}{(4)}&\\multicolumn{1}{c}{(5)}&\\multicolumn{1}{c}{(6)}&\\multicolumn{1}{c}{(7)}&\\multicolumn{1}{c}{(8)}\\\\\n",
      "            &\\multicolumn{1}{c}{literacy}&\\multicolumn{1}{c}{math}&\\multicolumn{1}{c}{literacy}&\\multicolumn{1}{c}{math}&\\multicolumn{1}{c}{literacy}&\\multicolumn{1}{c}{math}&\\multicolumn{1}{c}{literacy}&\\multicolumn{1}{c}{math}\\\\\n",
      "\\midrule\n",
      "abc         &     -0.0511         &     -0.0952\\sym{*}  &     -0.0551         &      -0.106\\sym{*}  &     -0.0556         &      -0.106\\sym{*}  &       0.200\\sym{***}&       0.230\\sym{***}\\\\\n",
      "            &    (0.0465)         &    (0.0548)         &    (0.0503)         &    (0.0594)         &    (0.0503)         &    (0.0593)         &    (0.0409)         &    (0.0424)         \\\\\n",
      "\\addlinespace\n",
      "post        &    -0.00397         &    -0.00444         &    -0.00525         &     -0.0103         &    -0.00414         &    -0.00931         &     -0.0121         &     -0.0270         \\\\\n",
      "            &    (0.0587)         &    (0.0658)         &    (0.0599)         &    (0.0680)         &    (0.0599)         &    (0.0681)         &    (0.0602)         &    (0.0692)         \\\\\n",
      "\\addlinespace\n",
      "abcpost     &       0.199\\sym{**} &       0.250\\sym{***}&       0.206\\sym{**} &       0.264\\sym{***}&       0.205\\sym{**} &       0.263\\sym{***}&       0.198\\sym{**} &       0.258\\sym{***}\\\\\n",
      "            &    (0.0880)         &    (0.0898)         &    (0.0881)         &    (0.0923)         &    (0.0881)         &    (0.0923)         &    (0.0901)         &    (0.0943)         \\\\\n",
      "\\addlinespace\n",
      "age         &                     &                     &     -0.0100\\sym{***}&    -0.00890\\sym{***}&     0.00352         &     0.00347         &     0.00355         &     0.00147         \\\\\n",
      "            &                     &                     &   (0.00102)         &   (0.00107)         &   (0.00406)         &   (0.00436)         &   (0.00385)         &   (0.00408)         \\\\\n",
      "\\addlinespace\n",
      "female      &                     &                     &      -0.423\\sym{***}&      -0.378\\sym{***}&      -0.420\\sym{***}&      -0.375\\sym{***}&      -0.420\\sym{***}&      -0.374\\sym{***}\\\\\n",
      "            &                     &                     &    (0.0325)         &    (0.0326)         &    (0.0321)         &    (0.0324)         &    (0.0319)         &    (0.0325)         \\\\\n",
      "\\addlinespace\n",
      "agesq       &                     &                     &                     &                     &   -0.000176\\sym{***}&   -0.000160\\sym{***}&   -0.000173\\sym{***}&   -0.000128\\sym{**} \\\\\n",
      "            &                     &                     &                     &                     & (0.0000494)         & (0.0000550)         & (0.0000476)         & (0.0000508)         \\\\\n",
      "Region Dummy & N & N & Y & Y & Y & Y & N & N \\\\\n",
      "Village Fixed Effect & N & N & N & N & N & N & Y & Y \\\\\n",
      "Subdistrict Fixed Effect & N & N & Y & Y & Y & Y & N & N \\\\\\midrule\n",
      "\\(N\\)       &       13402         &       13420         &       12823         &       12840         &       12823         &       12840         &       12823         &       12840         \\\\\n",
      "R-squared   &      0.0323         &      0.0387         &      0.0841         &      0.0824         &      0.0852         &      0.0834         &       0.131         &       0.139         \\\\\n",
      "\\bottomrule\n",
      "\\multicolumn{9}{l}{\\footnotesize Standard errors in parentheses}\\\\\n",
      "\\multicolumn{9}{l}{\\footnotesize \\sym{*} \\(p<0.1\\), \\sym{**} \\(p<0.05\\), \\sym{***} \\(p<0.01\\)}\\\\\n",
      "\\end{tabular}\n",
      "}\n",
      "\n"
     ]
    }
   ],
   "source": [
    "print(new_content)"
   ]
  },
  {
   "cell_type": "code",
   "execution_count": 8,
   "metadata": {},
   "outputs": [
    {
     "data": {
      "text/plain": [
       "'../manuscript/Tables/did_result.tex'"
      ]
     },
     "execution_count": 8,
     "metadata": {},
     "output_type": "execute_result"
    }
   ],
   "source": [
    "# File path\n",
    "file_path = '../manuscript/Tables/did_result.tex'\n",
    "\n",
    "# Save the LaTeX table to a file\n",
    "with open(file_path, 'w') as f:\n",
    "    f.write(new_content)\n",
    "\n",
    "file_path"
   ]
  },
  {
   "cell_type": "code",
   "execution_count": 13,
   "metadata": {},
   "outputs": [
    {
     "name": "stdout",
     "output_type": "stream",
     "text": [
      "{\n",
      "\\def\\sym#1{\\ifmmode^{#1}\\else\\(^{#1}\\)\\fi}\n",
      "\\begin{tabular}{l*{4}{c}}\n",
      "\\toprule\n",
      "            &\\multicolumn{1}{c}{(1)}&\\multicolumn{1}{c}{(2)}&\\multicolumn{1}{c}{(3)}&\\multicolumn{1}{c}{(4)}\\\\\n",
      "            &\\multicolumn{1}{c}{literacy}&\\multicolumn{1}{c}{math}&\\multicolumn{1}{c}{literacy}&\\multicolumn{1}{c}{math}\\\\\n",
      "\\midrule\n",
      "abcpost     &       0.188         &       0.170         &       0.175\\sym{*}  &       0.259\\sym{**} \\\\\n",
      "            &     (0.155)         &     (0.136)         &    (0.0994)         &     (0.106)         \\\\\n",
      "\\addlinespace\n",
      "abc         &     -0.0645         &     -0.0920         &     -0.0364         &      -0.129\\sym{*}  \\\\\n",
      "            &    (0.0709)         &    (0.0667)         &    (0.0616)         &    (0.0769)         \\\\\n",
      "\\addlinespace\n",
      "post        &     -0.0647         &     -0.0723         &       0.237\\sym{***}&      0.0926         \\\\\n",
      "            &     (0.110)         &     (0.109)         &    (0.0637)         &    (0.0791)         \\\\\n",
      "\\addlinespace\n",
      "cohort2009  &      0.0761         &       0.150\\sym{***}&      0.0762         &       0.149\\sym{***}\\\\\n",
      "            &    (0.0470)         &    (0.0444)         &    (0.0469)         &    (0.0446)         \\\\\n",
      "\\addlinespace\n",
      "female      &      -0.421\\sym{***}&      -0.377\\sym{***}&      -0.142\\sym{***}&      -0.277\\sym{***}\\\\\n",
      "            &    (0.0323)         &    (0.0327)         &    (0.0489)         &    (0.0599)         \\\\\n",
      "\\addlinespace\n",
      "age         &     0.00330         &     0.00292         &     0.00312         &     0.00294         \\\\\n",
      "            &   (0.00419)         &   (0.00440)         &   (0.00417)         &   (0.00441)         \\\\\n",
      "\\addlinespace\n",
      "agesq       &   -0.000173\\sym{***}&   -0.000155\\sym{***}&   -0.000171\\sym{***}&   -0.000155\\sym{***}\\\\\n",
      "            & (0.0000507)         & (0.0000554)         & (0.0000506)         & (0.0000553)         \\\\\n",
      "\\addlinespace\n",
      "femalepost  &                     &                     &      -0.494\\sym{***}&      -0.237\\sym{***}\\\\\n",
      "            &                     &                     &    (0.0637)         &    (0.0668)         \\\\\n",
      "\\addlinespace\n",
      "femaleabc   &                     &                     &     -0.0360         &      0.0629         \\\\\n",
      "            &                     &                     &    (0.0685)         &    (0.0759)         \\\\\n",
      "\\addlinespace\n",
      "abcfemalepost&                     &                     &      0.0514         &   -0.000982         \\\\\n",
      "            &                     &                     &    (0.0920)         &    (0.0990)         \\\\\n",
      "\\midrule\n",
      "\\(N\\)       &       12823         &       12840         &       12823         &       12840         \\\\\n",
      "R-squared   &      0.0867         &      0.0906         &      0.0995         &      0.0923         \\\\\n",
      "\\bottomrule\n",
      "\\multicolumn{5}{l}{\\footnotesize Standard errors in parentheses}\\\\\n",
      "\\multicolumn{5}{l}{\\footnotesize \\sym{*} \\(p<0.1\\), \\sym{**} \\(p<0.05\\), \\sym{***} \\(p<0.01\\)}\\\\\n",
      "\\end{tabular}\n",
      "}\n",
      "\n"
     ]
    }
   ],
   "source": [
    "file_path = '../manuscript/Tables/ddd.tex'  # Replace with your .tex file path\n",
    "with open(file_path, 'r') as file:\n",
    "    content = file.read()\n",
    "print(content)"
   ]
  },
  {
   "cell_type": "code",
   "execution_count": 14,
   "metadata": {},
   "outputs": [],
   "source": [
    "file_1 = content.split('\\\\midrule', 1)\n",
    "file_2 = file_1[1].split('\\\\midrule', 1)\n",
    "add_line = \"Subdistrict Fixed Effect & Y & Y & Y & Y \\\\\\\\\"\n",
    "new_content = file_1[0] + '\\\\midrule' + file_2[0] + add_line + '\\\\midrule' + file_2[1]"
   ]
  },
  {
   "cell_type": "code",
   "execution_count": 15,
   "metadata": {},
   "outputs": [
    {
     "name": "stdout",
     "output_type": "stream",
     "text": [
      "{\n",
      "\\def\\sym#1{\\ifmmode^{#1}\\else\\(^{#1}\\)\\fi}\n",
      "\\begin{tabular}{l*{4}{c}}\n",
      "\\toprule\n",
      "            &\\multicolumn{1}{c}{(1)}&\\multicolumn{1}{c}{(2)}&\\multicolumn{1}{c}{(3)}&\\multicolumn{1}{c}{(4)}\\\\\n",
      "            &\\multicolumn{1}{c}{literacy}&\\multicolumn{1}{c}{math}&\\multicolumn{1}{c}{literacy}&\\multicolumn{1}{c}{math}\\\\\n",
      "\\midrule\n",
      "abcpost     &       0.188         &       0.170         &       0.175\\sym{*}  &       0.259\\sym{**} \\\\\n",
      "            &     (0.155)         &     (0.136)         &    (0.0994)         &     (0.106)         \\\\\n",
      "\\addlinespace\n",
      "abc         &     -0.0645         &     -0.0920         &     -0.0364         &      -0.129\\sym{*}  \\\\\n",
      "            &    (0.0709)         &    (0.0667)         &    (0.0616)         &    (0.0769)         \\\\\n",
      "\\addlinespace\n",
      "post        &     -0.0647         &     -0.0723         &       0.237\\sym{***}&      0.0926         \\\\\n",
      "            &     (0.110)         &     (0.109)         &    (0.0637)         &    (0.0791)         \\\\\n",
      "\\addlinespace\n",
      "cohort2009  &      0.0761         &       0.150\\sym{***}&      0.0762         &       0.149\\sym{***}\\\\\n",
      "            &    (0.0470)         &    (0.0444)         &    (0.0469)         &    (0.0446)         \\\\\n",
      "\\addlinespace\n",
      "female      &      -0.421\\sym{***}&      -0.377\\sym{***}&      -0.142\\sym{***}&      -0.277\\sym{***}\\\\\n",
      "            &    (0.0323)         &    (0.0327)         &    (0.0489)         &    (0.0599)         \\\\\n",
      "\\addlinespace\n",
      "age         &     0.00330         &     0.00292         &     0.00312         &     0.00294         \\\\\n",
      "            &   (0.00419)         &   (0.00440)         &   (0.00417)         &   (0.00441)         \\\\\n",
      "\\addlinespace\n",
      "agesq       &   -0.000173\\sym{***}&   -0.000155\\sym{***}&   -0.000171\\sym{***}&   -0.000155\\sym{***}\\\\\n",
      "            & (0.0000507)         & (0.0000554)         & (0.0000506)         & (0.0000553)         \\\\\n",
      "\\addlinespace\n",
      "femalepost  &                     &                     &      -0.494\\sym{***}&      -0.237\\sym{***}\\\\\n",
      "            &                     &                     &    (0.0637)         &    (0.0668)         \\\\\n",
      "\\addlinespace\n",
      "femaleabc   &                     &                     &     -0.0360         &      0.0629         \\\\\n",
      "            &                     &                     &    (0.0685)         &    (0.0759)         \\\\\n",
      "\\addlinespace\n",
      "abcfemalepost&                     &                     &      0.0514         &   -0.000982         \\\\\n",
      "            &                     &                     &    (0.0920)         &    (0.0990)         \\\\\n",
      "Subdistrict Fixed Effect & Y & Y & Y & Y \\\\\\midrule\n",
      "\\(N\\)       &       12823         &       12840         &       12823         &       12840         \\\\\n",
      "R-squared   &      0.0867         &      0.0906         &      0.0995         &      0.0923         \\\\\n",
      "\\bottomrule\n",
      "\\multicolumn{5}{l}{\\footnotesize Standard errors in parentheses}\\\\\n",
      "\\multicolumn{5}{l}{\\footnotesize \\sym{*} \\(p<0.1\\), \\sym{**} \\(p<0.05\\), \\sym{***} \\(p<0.01\\)}\\\\\n",
      "\\end{tabular}\n",
      "}\n",
      "\n"
     ]
    }
   ],
   "source": [
    "print(new_content)"
   ]
  },
  {
   "cell_type": "code",
   "execution_count": 16,
   "metadata": {},
   "outputs": [
    {
     "data": {
      "text/plain": [
       "'../manuscript/Tables/ddd.tex'"
      ]
     },
     "execution_count": 16,
     "metadata": {},
     "output_type": "execute_result"
    }
   ],
   "source": [
    "# File path\n",
    "file_path = '../manuscript/Tables/ddd.tex'\n",
    "\n",
    "# Save the LaTeX table to a file\n",
    "with open(file_path, 'w') as f:\n",
    "    f.write(new_content)\n",
    "\n",
    "file_path"
   ]
  },
  {
   "cell_type": "code",
   "execution_count": null,
   "metadata": {},
   "outputs": [],
   "source": []
  },
  {
   "cell_type": "code",
   "execution_count": null,
   "metadata": {},
   "outputs": [],
   "source": []
  }
 ],
 "metadata": {
  "kernelspec": {
   "display_name": "base",
   "language": "python",
   "name": "python3"
  },
  "language_info": {
   "codemirror_mode": {
    "name": "ipython",
    "version": 3
   },
   "file_extension": ".py",
   "mimetype": "text/x-python",
   "name": "python",
   "nbconvert_exporter": "python",
   "pygments_lexer": "ipython3",
   "version": "3.11.7"
  }
 },
 "nbformat": 4,
 "nbformat_minor": 2
}
